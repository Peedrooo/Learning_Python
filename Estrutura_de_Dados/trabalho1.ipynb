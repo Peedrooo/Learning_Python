{
 "cells": [
  {
   "cell_type": "code",
   "execution_count": 2,
   "metadata": {},
   "outputs": [],
   "source": [
    "# Main\n",
    "while True:\n",
    "    solicitacao = input().split()\n",
    "    if solicitacao[0] == 'halt':\n",
    "        break\n",
    "    else:\n",
    "        instancias = int(solicitacao[1])\n",
    "        for c in range(instancias):\n",
    "            comando = input().split()\n",
    "            if comando[0] == 'crypto ':\n",
    "                cry = crypto(comando[1])\n",
    "            elif comando[0] == 'deYodafy':\n",
    "                dec = decrypto(comando[1])\n",
    "            elif comando[0] == 'merge':\n",
    "                mer = merge(comando[1])\n",
    "            \n",
    "            \n",
    "print('órfão')\n",
    "\n"
   ]
  },
  {
   "cell_type": "code",
   "execution_count": 3,
   "metadata": {},
   "outputs": [],
   "source": [
    "def crypto(S):\n",
    "    \n",
    "    "
   ]
  },
  {
   "cell_type": "code",
   "execution_count": 4,
   "metadata": {},
   "outputs": [],
   "source": [
    "def deYodafy(w):\n",
    "    w = w.split()\n",
    "    w = [int(i) for i in w]\n",
    "    w.sort()\n",
    "    return w"
   ]
  },
  {
   "cell_type": "code",
   "execution_count": null,
   "metadata": {},
   "outputs": [],
   "source": [
    "def merge(I):\n",
    "    I.sort()\n",
    "    return I"
   ]
  },
  {
   "cell_type": "code",
   "execution_count": null,
   "metadata": {},
   "outputs": [],
   "source": [
    "def process():\n",
    "    return 'ok'"
   ]
  }
 ],
 "metadata": {
  "interpreter": {
   "hash": "1cf755f897b7fcddb96eb98c1c62d372ff8498e655523319e5451c0b93466b3f"
  },
  "kernelspec": {
   "display_name": "Python 3.9.11 64-bit (windows store)",
   "language": "python",
   "name": "python3"
  },
  "language_info": {
   "codemirror_mode": {
    "name": "ipython",
    "version": 3
   },
   "file_extension": ".py",
   "mimetype": "text/x-python",
   "name": "python",
   "nbconvert_exporter": "python",
   "pygments_lexer": "ipython3",
   "version": "3.9.11"
  },
  "orig_nbformat": 4
 },
 "nbformat": 4,
 "nbformat_minor": 2
}
