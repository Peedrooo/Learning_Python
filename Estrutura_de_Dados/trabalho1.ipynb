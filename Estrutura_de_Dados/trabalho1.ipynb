{
 "cells": [
  {
   "cell_type": "code",
   "execution_count": 2,
   "metadata": {},
   "outputs": [],
   "source": [
    "# Main\n",
    "while True:\n",
    "    solicitacao = input().split(2)\n",
    "    if solicitacao[0] == 'halt':\n",
    "        break\n",
    "    else:\n",
    "        instancias = int(solicitacao[1])\n",
    "        for c in range(instancias):\n",
    "            comando = input().split()\n",
    "            if comando[0] == 'crypto ':\n",
    "                cry = crypto(comando[1])\n",
    "            elif comando[0] == 'deYodafy':\n",
    "                dec = decrypto(comando[1])\n",
    "            elif comando[0] == 'merge':\n",
    "                mer = merge(comando[1])\n",
    "            \n",
    "            \n",
    "print('órfão')\n",
    "\n"
   ]
  },
  {
   "cell_type": "code",
   "execution_count": 63,
   "metadata": {},
   "outputs": [
    {
     "name": "stdout",
     "output_type": "stream",
     "text": [
      "Para --- =  [4, 3, 2, 1]\n",
      "Para +++ =  [1, 2, 3, 4]\n",
      "Para -+- =  [2, 1, 4, 3]\n",
      "Para +-+- =  [1, 3, 2, 5, 4]\n"
     ]
    }
   ],
   "source": [
    "def crypto(S):\n",
    "    valores = []\n",
    "    resultado = []\n",
    "    for c in range(len(S)+1):\n",
    "        valores.append(c + 1)\n",
    "\n",
    "    if '+' in S:\n",
    "        for i in S[::-1]:\n",
    "            if i == '+':\n",
    "                resultado.append(valores.pop())\n",
    "            elif i == '-':\n",
    "                resultado.append(valores.pop(-2))\n",
    "        resultado.append(valores.pop())\n",
    "        return resultado[::-1]\n",
    "\n",
    "    else:\n",
    "        for i in S:\n",
    "            resultado.append(valores.pop())\n",
    "        resultado.append(valores.pop())\n",
    "        return resultado\n",
    "\n",
    "            \n",
    "for c in ['---','+++','-+-','+-+-']:\n",
    "    print(f'Para {c} = ',crypto(c))"
   ]
  },
  {
   "cell_type": "code",
   "execution_count": 22,
   "metadata": {},
   "outputs": [
    {
     "data": {
      "text/plain": [
       "'Império deve contra-atacar!'"
      ]
     },
     "execution_count": 22,
     "metadata": {},
     "output_type": "execute_result"
    }
   ],
   "source": [
    "def deYodafy(w):\n",
    "    sinal = w[-1]\n",
    "    recorte = (w[:len(w)-1]).split()    \n",
    "    inversao = recorte[::-1] \n",
    "    fala = ' '.join(inversao)+sinal\n",
    "    return(fala)\n",
    "\n",
    "\n",
    "\n",
    "deYodafy('contra-atacar deve Império!')"
   ]
  },
  {
   "cell_type": "code",
   "execution_count": null,
   "metadata": {},
   "outputs": [],
   "source": [
    "def merge(I):\n",
    "    I.sort()\n",
    "    return I"
   ]
  },
  {
   "cell_type": "code",
   "execution_count": null,
   "metadata": {},
   "outputs": [],
   "source": [
    "def process():\n",
    "    return 'ok'"
   ]
  }
 ],
 "metadata": {
  "interpreter": {
   "hash": "1cf755f897b7fcddb96eb98c1c62d372ff8498e655523319e5451c0b93466b3f"
  },
  "kernelspec": {
   "display_name": "Python 3.9.11 64-bit (windows store)",
   "language": "python",
   "name": "python3"
  },
  "language_info": {
   "codemirror_mode": {
    "name": "ipython",
    "version": 3
   },
   "file_extension": ".py",
   "mimetype": "text/x-python",
   "name": "python",
   "nbconvert_exporter": "python",
   "pygments_lexer": "ipython3",
   "version": "3.8.10"
  },
  "orig_nbformat": 4
 },
 "nbformat": 4,
 "nbformat_minor": 2
}
