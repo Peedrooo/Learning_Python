{
 "metadata": {
  "language_info": {
   "codemirror_mode": {
    "name": "ipython",
    "version": 3
   },
   "file_extension": ".py",
   "mimetype": "text/x-python",
   "name": "python",
   "nbconvert_exporter": "python",
   "pygments_lexer": "ipython3",
   "version": "3.8.8-final"
  },
  "orig_nbformat": 2,
  "kernelspec": {
   "name": "python3",
   "display_name": "Python 3.8.8 64-bit",
   "metadata": {
    "interpreter": {
     "hash": "1b714c2aece7e2766a5d190f2d997138e93b518ee27873afe9ee00aa2fef8737"
    }
   }
  }
 },
 "nbformat": 4,
 "nbformat_minor": 2,
 "cells": [
  {
   "cell_type": "code",
   "execution_count": 1,
   "metadata": {},
   "outputs": [],
   "source": []
  },
  {
   "cell_type": "code",
   "execution_count": 2,
   "metadata": {},
   "outputs": [],
   "source": [
    "import numpy as np\n",
    "import plotly as pl\n",
    "import plotly.express as px"
   ]
  },
  {
   "cell_type": "code",
   "execution_count": 3,
   "metadata": {},
   "outputs": [
    {
     "output_type": "stream",
     "name": "stdout",
     "text": [
      "Figure({\n    'data': [{'hovertemplate': 'x=%{x}<br>y=%{y}<extra></extra>',\n              'legendgroup': '',\n              'line': {'color': '#636efa', 'dash': 'solid'},\n              'mode': 'lines',\n              'name': '',\n              'showlegend': False,\n              'type': 'scattergl',\n              'x': array([ 0.25,  0.26,  0.27, ..., 19.97, 19.98, 19.99]),\n              'xaxis': 'x',\n              'y': array([11.87539004, 11.86525624, 11.85473052, ...,  0.54098778,  0.54330425,\n                           0.54556409]),\n              'yaxis': 'y'}],\n    'layout': {'legend': {'tracegroupgap': 0},\n               'margin': {'t': 60},\n               'template': '...',\n               'xaxis': {'anchor': 'y', 'domain': [0.0, 1.0], 'title': {'text': 'x'}},\n               'yaxis': {'anchor': 'x', 'domain': [0.0, 1.0], 'title': {'text': 'y'}}}\n})\n"
     ]
    }
   ],
   "source": [
    "x = np.arange(0.25, 20, 0.01)\n",
    "y1 = 12 * np.sin(x) / x\n",
    "y2 = 4 * np.log(x)\n",
    "\n",
    "print(px.line(x = x, y = y1))"
   ]
  },
  {
   "cell_type": "code",
   "execution_count": 4,
   "metadata": {},
   "outputs": [],
   "source": [
    "import json\n",
    "\n",
    "import dash\n",
    "import dash_core_components as dcc\n",
    "import dash_html_components as html\n",
    "from dash.dependencies import Input, Output\n",
    "import plotly.express as px\n",
    "import numpy as np\n",
    "\n",
    "\n",
    "x = np.arange(0.25, 20, 0.01)\n",
    "y1 = 12*np.sin(x)/x\n",
    "y2 = 4*np.log(x)\n",
    "\n",
    "\n",
    "\n",
    "fig = px.line(x=x, y=y1)"
   ]
  },
  {
   "cell_type": "code",
   "execution_count": 5,
   "metadata": {},
   "outputs": [
    {
     "output_type": "stream",
     "name": "stdout",
     "text": [
      "Figure({\n    'data': [{'hovertemplate': 'x=%{x}<br>y=%{y}<extra></extra>',\n              'legendgroup': '',\n              'line': {'color': '#636efa', 'dash': 'solid'},\n              'mode': 'lines',\n              'name': '',\n              'showlegend': False,\n              'type': 'scattergl',\n              'x': array([ 0.25,  0.26,  0.27, ..., 19.97, 19.98, 19.99]),\n              'xaxis': 'x',\n              'y': array([11.87539004, 11.86525624, 11.85473052, ...,  0.54098778,  0.54330425,\n                           0.54556409]),\n              'yaxis': 'y'}],\n    'layout': {'legend': {'tracegroupgap': 0},\n               'margin': {'t': 60},\n               'template': '...',\n               'xaxis': {'anchor': 'y', 'domain': [0.0, 1.0], 'title': {'text': 'x'}},\n               'yaxis': {'anchor': 'x', 'domain': [0.0, 1.0], 'title': {'text': 'y'}}}\n})\n"
     ]
    }
   ],
   "source": []
  },
  {
   "cell_type": "code",
   "execution_count": null,
   "metadata": {},
   "outputs": [],
   "source": []
  }
 ]
}