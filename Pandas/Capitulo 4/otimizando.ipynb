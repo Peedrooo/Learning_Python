{
 "cells": [
  {
   "cell_type": "code",
   "execution_count": 1,
   "metadata": {},
   "outputs": [],
   "source": [
    "import pandas as pd\n",
    "import numpy as np\n",
    "from pathlib import Path\n",
    "import os\n",
    "p = os.getcwd()\n",
    "base = Path(p).parent\n",
    "data = pd.read_csv(str(base)+\"\\\\data\\\\houses_to_rent.csv\")"
   ]
  },
  {
   "cell_type": "code",
   "execution_count": 3,
   "metadata": {},
   "outputs": [
    {
     "data": {
      "text/plain": [
       "Unnamed: 0         int64\n",
       "city               int64\n",
       "area               int64\n",
       "rooms              int64\n",
       "bathroom           int64\n",
       "parking spaces     int64\n",
       "floor             object\n",
       "animal            object\n",
       "furniture         object\n",
       "hoa               object\n",
       "rent amount       object\n",
       "property tax      object\n",
       "fire insurance    object\n",
       "total             object\n",
       "dtype: object"
      ]
     },
     "execution_count": 3,
     "metadata": {},
     "output_type": "execute_result"
    }
   ],
   "source": [
    "data.dtypes"
   ]
  },
  {
   "cell_type": "code",
   "execution_count": 4,
   "metadata": {},
   "outputs": [],
   "source": [
    "datacopy = data.copy()"
   ]
  },
  {
   "cell_type": "code",
   "execution_count": 5,
   "metadata": {},
   "outputs": [
    {
     "data": {
      "text/plain": [
       "Index                128\n",
       "Unnamed: 0         48640\n",
       "city               48640\n",
       "area               48640\n",
       "rooms              48640\n",
       "bathroom           48640\n",
       "parking spaces     48640\n",
       "floor             354071\n",
       "animal            382616\n",
       "furniture         419272\n",
       "hoa               379216\n",
       "rent amount       389125\n",
       "property tax      374694\n",
       "fire insurance    371753\n",
       "total             389956\n",
       "dtype: int64"
      ]
     },
     "execution_count": 5,
     "metadata": {},
     "output_type": "execute_result"
    }
   ],
   "source": [
    "data.memory_usage(deep = True)"
   ]
  },
  {
   "cell_type": "code",
   "execution_count": 6,
   "metadata": {},
   "outputs": [
    {
     "data": {
      "text/html": [
       "<div>\n",
       "<style scoped>\n",
       "    .dataframe tbody tr th:only-of-type {\n",
       "        vertical-align: middle;\n",
       "    }\n",
       "\n",
       "    .dataframe tbody tr th {\n",
       "        vertical-align: top;\n",
       "    }\n",
       "\n",
       "    .dataframe thead th {\n",
       "        text-align: right;\n",
       "    }\n",
       "</style>\n",
       "<table border=\"1\" class=\"dataframe\">\n",
       "  <thead>\n",
       "    <tr style=\"text-align: right;\">\n",
       "      <th></th>\n",
       "      <th>Unnamed: 0</th>\n",
       "      <th>city</th>\n",
       "      <th>area</th>\n",
       "      <th>rooms</th>\n",
       "      <th>bathroom</th>\n",
       "      <th>parking spaces</th>\n",
       "      <th>floor</th>\n",
       "      <th>animal</th>\n",
       "      <th>furniture</th>\n",
       "      <th>hoa</th>\n",
       "      <th>rent amount</th>\n",
       "      <th>property tax</th>\n",
       "      <th>fire insurance</th>\n",
       "      <th>total</th>\n",
       "    </tr>\n",
       "  </thead>\n",
       "  <tbody>\n",
       "    <tr>\n",
       "      <th>0</th>\n",
       "      <td>0</td>\n",
       "      <td>1</td>\n",
       "      <td>240</td>\n",
       "      <td>3</td>\n",
       "      <td>3</td>\n",
       "      <td>4</td>\n",
       "      <td>-</td>\n",
       "      <td>acept</td>\n",
       "      <td>furnished</td>\n",
       "      <td>R$0</td>\n",
       "      <td>R$8,000</td>\n",
       "      <td>R$1,000</td>\n",
       "      <td>R$121</td>\n",
       "      <td>R$9,121</td>\n",
       "    </tr>\n",
       "  </tbody>\n",
       "</table>\n",
       "</div>"
      ],
      "text/plain": [
       "   Unnamed: 0  city  area  rooms  bathroom  parking spaces floor animal  \\\n",
       "0           0     1   240      3         3               4     -  acept   \n",
       "\n",
       "   furniture  hoa rent amount property tax fire insurance    total  \n",
       "0  furnished  R$0     R$8,000      R$1,000          R$121  R$9,121  "
      ]
     },
     "execution_count": 6,
     "metadata": {},
     "output_type": "execute_result"
    }
   ],
   "source": [
    "datacopy.head(1)"
   ]
  },
  {
   "cell_type": "code",
   "execution_count": 13,
   "metadata": {},
   "outputs": [],
   "source": [
    "datacopy[\"area\"] = data[\"area\"].astype(np.int8)\n",
    "datacopy[\"rooms\"] = data[\"rooms\"].astype(np.int8)\n",
    "datacopy[\"bathroom\"] = data[\"bathroom\"].astype(np.int8)\n",
    "datacopy[\"parking spaces\"] = data[\"parking spaces\"].astype(np.int8)"
   ]
  },
  {
   "cell_type": "code",
   "execution_count": 14,
   "metadata": {},
   "outputs": [],
   "source": [
    "datacopy[\"city\"] = data[\"city\"].astype(\"category\")\n",
    "datacopy[\"animal\"] = data[\"animal\"].astype(\"category\")\n",
    "datacopy[\"furniture\"] = data[\"furniture\"].astype(\"category\")"
   ]
  },
  {
   "cell_type": "code",
   "execution_count": 15,
   "metadata": {},
   "outputs": [
    {
     "data": {
      "text/plain": [
       "Index                128\n",
       "Unnamed: 0         48640\n",
       "city                6204\n",
       "area                6080\n",
       "rooms               6080\n",
       "bathroom            6080\n",
       "parking spaces      6080\n",
       "floor             354071\n",
       "animal              6316\n",
       "furniture           6324\n",
       "hoa               379216\n",
       "rent amount       389125\n",
       "property tax      374694\n",
       "fire insurance    371753\n",
       "total             389956\n",
       "dtype: int64"
      ]
     },
     "execution_count": 15,
     "metadata": {},
     "output_type": "execute_result"
    }
   ],
   "source": [
    "datacopy.memory_usage(deep=True)"
   ]
  },
  {
   "cell_type": "code",
   "execution_count": 16,
   "metadata": {},
   "outputs": [
    {
     "data": {
      "text/plain": [
       "Index             1.000000\n",
       "Unnamed: 0        1.000000\n",
       "city              0.127549\n",
       "area              0.125000\n",
       "rooms             0.125000\n",
       "bathroom          0.125000\n",
       "parking spaces    0.125000\n",
       "floor             1.000000\n",
       "animal            0.016507\n",
       "furniture         0.015083\n",
       "hoa               1.000000\n",
       "rent amount       1.000000\n",
       "property tax      1.000000\n",
       "fire insurance    1.000000\n",
       "total             1.000000\n",
       "dtype: float64"
      ]
     },
     "execution_count": 16,
     "metadata": {},
     "output_type": "execute_result"
    }
   ],
   "source": [
    "datacopy.memory_usage(deep=True) / data.memory_usage(deep=True)"
   ]
  },
  {
   "cell_type": "code",
   "execution_count": null,
   "metadata": {},
   "outputs": [],
   "source": []
  }
 ],
 "metadata": {
  "interpreter": {
   "hash": "992045062d2ba229af4ec824f82107cca7e9d55201820b293f31bdaf1440c28b"
  },
  "kernelspec": {
   "display_name": "Python 3.8.12 64-bit ('machine': conda)",
   "language": "python",
   "name": "python3"
  },
  "language_info": {
   "codemirror_mode": {
    "name": "ipython",
    "version": 3
   },
   "file_extension": ".py",
   "mimetype": "text/x-python",
   "name": "python",
   "nbconvert_exporter": "python",
   "pygments_lexer": "ipython3",
   "version": "3.8.12"
  },
  "orig_nbformat": 4
 },
 "nbformat": 4,
 "nbformat_minor": 2
}
