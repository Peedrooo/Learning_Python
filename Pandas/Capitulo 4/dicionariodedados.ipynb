{
 "cells": [
  {
   "cell_type": "code",
   "execution_count": 1,
   "metadata": {},
   "outputs": [],
   "source": [
    "import pandas as pd\n",
    "import numpy as np\n",
    "from pathlib import Path\n",
    "import os\n",
    "p = os.getcwd()\n",
    "base = Path(p).parent\n",
    "data = pd.read_csv(str(base)+\"\\\\data\\\\houses_to_rent.csv\")"
   ]
  },
  {
   "cell_type": "code",
   "execution_count": 5,
   "metadata": {},
   "outputs": [
    {
     "data": {
      "text/html": [
       "<div>\n",
       "<style scoped>\n",
       "    .dataframe tbody tr th:only-of-type {\n",
       "        vertical-align: middle;\n",
       "    }\n",
       "\n",
       "    .dataframe tbody tr th {\n",
       "        vertical-align: top;\n",
       "    }\n",
       "\n",
       "    .dataframe thead th {\n",
       "        text-align: right;\n",
       "    }\n",
       "</style>\n",
       "<table border=\"1\" class=\"dataframe\">\n",
       "  <thead>\n",
       "    <tr style=\"text-align: right;\">\n",
       "      <th></th>\n",
       "      <th>Unnamed: 0</th>\n",
       "      <th>city</th>\n",
       "      <th>area</th>\n",
       "      <th>rooms</th>\n",
       "      <th>bathroom</th>\n",
       "      <th>parking spaces</th>\n",
       "      <th>floor</th>\n",
       "      <th>animal</th>\n",
       "      <th>furniture</th>\n",
       "      <th>hoa</th>\n",
       "      <th>rent amount</th>\n",
       "      <th>property tax</th>\n",
       "      <th>fire insurance</th>\n",
       "      <th>total</th>\n",
       "    </tr>\n",
       "  </thead>\n",
       "  <tbody>\n",
       "    <tr>\n",
       "      <th>0</th>\n",
       "      <td>0</td>\n",
       "      <td>1</td>\n",
       "      <td>240</td>\n",
       "      <td>3</td>\n",
       "      <td>3</td>\n",
       "      <td>4</td>\n",
       "      <td>-</td>\n",
       "      <td>acept</td>\n",
       "      <td>furnished</td>\n",
       "      <td>R$0</td>\n",
       "      <td>R$8,000</td>\n",
       "      <td>R$1,000</td>\n",
       "      <td>R$121</td>\n",
       "      <td>R$9,121</td>\n",
       "    </tr>\n",
       "    <tr>\n",
       "      <th>1</th>\n",
       "      <td>1</td>\n",
       "      <td>0</td>\n",
       "      <td>64</td>\n",
       "      <td>2</td>\n",
       "      <td>1</td>\n",
       "      <td>1</td>\n",
       "      <td>10</td>\n",
       "      <td>acept</td>\n",
       "      <td>not furnished</td>\n",
       "      <td>R$540</td>\n",
       "      <td>R$820</td>\n",
       "      <td>R$122</td>\n",
       "      <td>R$11</td>\n",
       "      <td>R$1,493</td>\n",
       "    </tr>\n",
       "  </tbody>\n",
       "</table>\n",
       "</div>"
      ],
      "text/plain": [
       "   Unnamed: 0  city  area  rooms  bathroom  parking spaces floor animal  \\\n",
       "0           0     1   240      3         3               4     -  acept   \n",
       "1           1     0    64      2         1               1    10  acept   \n",
       "\n",
       "       furniture    hoa rent amount property tax fire insurance    total  \n",
       "0      furnished    R$0     R$8,000      R$1,000          R$121  R$9,121  \n",
       "1  not furnished  R$540       R$820        R$122           R$11  R$1,493  "
      ]
     },
     "execution_count": 5,
     "metadata": {},
     "output_type": "execute_result"
    }
   ],
   "source": [
    "data.head(2)"
   ]
  },
  {
   "cell_type": "code",
   "execution_count": 6,
   "metadata": {},
   "outputs": [
    {
     "name": "stdout",
     "output_type": "stream",
     "text": [
      "<class 'pandas.core.frame.DataFrame'>\n",
      "RangeIndex: 6080 entries, 0 to 6079\n",
      "Data columns (total 14 columns):\n",
      " #   Column          Non-Null Count  Dtype \n",
      "---  ------          --------------  ----- \n",
      " 0   Unnamed: 0      6080 non-null   int64 \n",
      " 1   city            6080 non-null   int64 \n",
      " 2   area            6080 non-null   int64 \n",
      " 3   rooms           6080 non-null   int64 \n",
      " 4   bathroom        6080 non-null   int64 \n",
      " 5   parking spaces  6080 non-null   int64 \n",
      " 6   floor           6080 non-null   object\n",
      " 7   animal          6080 non-null   object\n",
      " 8   furniture       6080 non-null   object\n",
      " 9   hoa             6080 non-null   object\n",
      " 10  rent amount     6080 non-null   object\n",
      " 11  property tax    6080 non-null   object\n",
      " 12  fire insurance  6080 non-null   object\n",
      " 13  total           6080 non-null   object\n",
      "dtypes: int64(6), object(8)\n",
      "memory usage: 665.1+ KB\n"
     ]
    }
   ],
   "source": [
    "data.info()"
   ]
  },
  {
   "cell_type": "code",
   "execution_count": 7,
   "metadata": {},
   "outputs": [],
   "source": [
    "# Podemos criar um dicionário de dados e salvá-los na pasta dos arquivos\n",
    "# 1 - Cada coluna da biblioteca, a descrição da coluna da base\n",
    "\n",
    "b1 = {\n",
    "    \"city\": [\"Cidade onde o imóvel está localizado\"],\n",
    "    \"area\": [\"Área, em m², do imóvel\"],\n",
    "    \"rooms\": [\"Quantidade de quartos\"]\n",
    "}"
   ]
  },
  {
   "cell_type": "code",
   "execution_count": 8,
   "metadata": {},
   "outputs": [],
   "source": [
    "b1_df = pd.DataFrame(b1)\n"
   ]
  },
  {
   "cell_type": "code",
   "execution_count": 9,
   "metadata": {},
   "outputs": [],
   "source": [
    "b1_df.to_csv(\"Biblioteca V1.csv\")"
   ]
  },
  {
   "cell_type": "code",
   "execution_count": 16,
   "metadata": {},
   "outputs": [
    {
     "data": {
      "text/html": [
       "<div>\n",
       "<style scoped>\n",
       "    .dataframe tbody tr th:only-of-type {\n",
       "        vertical-align: middle;\n",
       "    }\n",
       "\n",
       "    .dataframe tbody tr th {\n",
       "        vertical-align: top;\n",
       "    }\n",
       "\n",
       "    .dataframe thead th {\n",
       "        text-align: right;\n",
       "    }\n",
       "</style>\n",
       "<table border=\"1\" class=\"dataframe\">\n",
       "  <thead>\n",
       "    <tr style=\"text-align: right;\">\n",
       "      <th></th>\n",
       "      <th>city</th>\n",
       "      <th>area</th>\n",
       "      <th>rooms</th>\n",
       "    </tr>\n",
       "  </thead>\n",
       "  <tbody>\n",
       "    <tr>\n",
       "      <th>0</th>\n",
       "      <td>Cidade onde o imóvel está localizado</td>\n",
       "      <td>Área, em m², do imóvel</td>\n",
       "      <td>Quantidade de quartos</td>\n",
       "    </tr>\n",
       "  </tbody>\n",
       "</table>\n",
       "</div>"
      ],
      "text/plain": [
       "                                   city                    area  \\\n",
       "0  Cidade onde o imóvel está localizado  Área, em m², do imóvel   \n",
       "\n",
       "                   rooms  \n",
       "0  Quantidade de quartos  "
      ]
     },
     "execution_count": 16,
     "metadata": {},
     "output_type": "execute_result"
    }
   ],
   "source": [
    "b1_df"
   ]
  },
  {
   "cell_type": "code",
   "execution_count": 10,
   "metadata": {},
   "outputs": [],
   "source": [
    "# Cada coluna, uma característica\n",
    "b2 = {\n",
    "    \"nome_coluna\": [\"city\", \"area\", \"rooms\"],\n",
    "    \"descricao\": [\"Cidade onde o imóvel está localizado\", \"Área, em m², do imóvel\", \"Quantidade de quartos\"],\n",
    "    \"tipo_dado\": [\"Numérico (catergórico)\", \"Numérico\", \"Quantitativo\"],\n",
    "    \"tipo_dado_np\": [\"Int64\", \"Int64\", \"Int64\"]\n",
    "\n",
    "}"
   ]
  },
  {
   "cell_type": "code",
   "execution_count": 11,
   "metadata": {},
   "outputs": [],
   "source": [
    "b2_df = pd.DataFrame(b2)"
   ]
  },
  {
   "cell_type": "code",
   "execution_count": 12,
   "metadata": {},
   "outputs": [],
   "source": [
    "b2_df.to_csv(\"Biblioteca V2.csv\")"
   ]
  },
  {
   "cell_type": "code",
   "execution_count": 15,
   "metadata": {},
   "outputs": [
    {
     "data": {
      "text/html": [
       "<div>\n",
       "<style scoped>\n",
       "    .dataframe tbody tr th:only-of-type {\n",
       "        vertical-align: middle;\n",
       "    }\n",
       "\n",
       "    .dataframe tbody tr th {\n",
       "        vertical-align: top;\n",
       "    }\n",
       "\n",
       "    .dataframe thead th {\n",
       "        text-align: right;\n",
       "    }\n",
       "</style>\n",
       "<table border=\"1\" class=\"dataframe\">\n",
       "  <thead>\n",
       "    <tr style=\"text-align: right;\">\n",
       "      <th></th>\n",
       "      <th>nome_coluna</th>\n",
       "      <th>descricao</th>\n",
       "      <th>tipo_dado</th>\n",
       "      <th>tipo_dado_np</th>\n",
       "    </tr>\n",
       "  </thead>\n",
       "  <tbody>\n",
       "    <tr>\n",
       "      <th>0</th>\n",
       "      <td>city</td>\n",
       "      <td>Cidade onde o imóvel está localizado</td>\n",
       "      <td>Numérico (catergórico)</td>\n",
       "      <td>Int64</td>\n",
       "    </tr>\n",
       "    <tr>\n",
       "      <th>1</th>\n",
       "      <td>area</td>\n",
       "      <td>Área, em m², do imóvel</td>\n",
       "      <td>Numérico</td>\n",
       "      <td>Int64</td>\n",
       "    </tr>\n",
       "    <tr>\n",
       "      <th>2</th>\n",
       "      <td>rooms</td>\n",
       "      <td>Quantidade de quartos</td>\n",
       "      <td>Quantitativo</td>\n",
       "      <td>Int64</td>\n",
       "    </tr>\n",
       "  </tbody>\n",
       "</table>\n",
       "</div>"
      ],
      "text/plain": [
       "  nome_coluna                             descricao               tipo_dado  \\\n",
       "0        city  Cidade onde o imóvel está localizado  Numérico (catergórico)   \n",
       "1        area                Área, em m², do imóvel                Numérico   \n",
       "2       rooms                 Quantidade de quartos            Quantitativo   \n",
       "\n",
       "  tipo_dado_np  \n",
       "0        Int64  \n",
       "1        Int64  \n",
       "2        Int64  "
      ]
     },
     "execution_count": 15,
     "metadata": {},
     "output_type": "execute_result"
    }
   ],
   "source": [
    "b2_df"
   ]
  }
 ],
 "metadata": {
  "interpreter": {
   "hash": "992045062d2ba229af4ec824f82107cca7e9d55201820b293f31bdaf1440c28b"
  },
  "kernelspec": {
   "display_name": "Python 3.8.12 64-bit ('machine': conda)",
   "language": "python",
   "name": "python3"
  },
  "language_info": {
   "codemirror_mode": {
    "name": "ipython",
    "version": 3
   },
   "file_extension": ".py",
   "mimetype": "text/x-python",
   "name": "python",
   "nbconvert_exporter": "python",
   "pygments_lexer": "ipython3",
   "version": "3.8.12"
  },
  "orig_nbformat": 4
 },
 "nbformat": 4,
 "nbformat_minor": 2
}
