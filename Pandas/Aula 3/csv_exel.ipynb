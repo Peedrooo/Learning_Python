{
 "cells": [
  {
   "cell_type": "code",
   "execution_count": 19,
   "metadata": {},
   "outputs": [],
   "source": [
    "# Só dando aquela praticada básica\n",
    "import sys\n",
    "from pathlib import Path\n",
    "import os\n",
    "sys.path.append(str(Path(os.getcwd()).parent)) # adicionando arquivo a uma pasta local\n",
    "from funcoes.funcao import importbase"
   ]
  },
  {
   "cell_type": "code",
   "execution_count": 20,
   "metadata": {},
   "outputs": [],
   "source": [
    "import pandas as pd \n",
    "import numpy as np "
   ]
  },
  {
   "cell_type": "markdown",
   "metadata": {},
   "source": [
    "# Exportando df"
   ]
  },
  {
   "cell_type": "markdown",
   "metadata": {},
   "source": [
    "## criando df"
   ]
  },
  {
   "cell_type": "code",
   "execution_count": 21,
   "metadata": {},
   "outputs": [],
   "source": [
    "# Criando um dataframe de exemplo\n",
    "albuns = [\"Bonito, Lindo e Joiado\", \n",
    "\"O Dinheiro Não é Tudo, Mas é 100%\", \n",
    "\"A Besteira é a Base da Sabedoria\", \n",
    "\"A Um Passo da MPB\", \n",
    "\"Quanto Pior, Melhor\", \n",
    "\"500 Anos de Chifre\", \n",
    "\"Do Penico à Bomba Atômica\", \n",
    "\"Maxximum\", \n",
    "\"What P***A iis This?\", \n",
    "\"Sucessão de Sucessos Que Se Sucedem Sucessivamente Sem Cessar\",\n",
    "\"Under the Blade\",\n",
    "\"You Can't Stop Rock'n Roll\",\n",
    "\"Stay Hungry\",\n",
    "\"Come Out and Play\",\n",
    "\"Love is for Suckers\",\n",
    "\"Big Hits and Nasty Cuts\",\n",
    "\"Still Hungry\"\n",
    "]\n",
    "\n",
    "anos = []\n",
    "for c in range(1992,2009):\n",
    "    anos.append(c)\n",
    "\n",
    "artistas = []\n",
    "for i in range(0,10):\n",
    "    artistas.append(\"Falcão\")\n",
    "for i in range(0,7):\n",
    "    artistas.append(\"Twisted Sister\") "
   ]
  },
  {
   "cell_type": "code",
   "execution_count": 22,
   "metadata": {},
   "outputs": [],
   "source": [
    "dados = {\"Album\" : albuns, \"Ano\": anos, \"Artista\": artistas}\n",
    "discografia = pd.DataFrame(dados)"
   ]
  },
  {
   "cell_type": "code",
   "execution_count": 23,
   "metadata": {},
   "outputs": [
    {
     "data": {
      "text/html": [
       "<div>\n",
       "<style scoped>\n",
       "    .dataframe tbody tr th:only-of-type {\n",
       "        vertical-align: middle;\n",
       "    }\n",
       "\n",
       "    .dataframe tbody tr th {\n",
       "        vertical-align: top;\n",
       "    }\n",
       "\n",
       "    .dataframe thead th {\n",
       "        text-align: right;\n",
       "    }\n",
       "</style>\n",
       "<table border=\"1\" class=\"dataframe\">\n",
       "  <thead>\n",
       "    <tr style=\"text-align: right;\">\n",
       "      <th></th>\n",
       "      <th>Album</th>\n",
       "      <th>Ano</th>\n",
       "      <th>Artista</th>\n",
       "    </tr>\n",
       "  </thead>\n",
       "  <tbody>\n",
       "    <tr>\n",
       "      <th>0</th>\n",
       "      <td>Bonito, Lindo e Joiado</td>\n",
       "      <td>1992</td>\n",
       "      <td>Falcão</td>\n",
       "    </tr>\n",
       "    <tr>\n",
       "      <th>1</th>\n",
       "      <td>O Dinheiro Não é Tudo, Mas é 100%</td>\n",
       "      <td>1993</td>\n",
       "      <td>Falcão</td>\n",
       "    </tr>\n",
       "    <tr>\n",
       "      <th>2</th>\n",
       "      <td>A Besteira é a Base da Sabedoria</td>\n",
       "      <td>1994</td>\n",
       "      <td>Falcão</td>\n",
       "    </tr>\n",
       "    <tr>\n",
       "      <th>3</th>\n",
       "      <td>A Um Passo da MPB</td>\n",
       "      <td>1995</td>\n",
       "      <td>Falcão</td>\n",
       "    </tr>\n",
       "    <tr>\n",
       "      <th>4</th>\n",
       "      <td>Quanto Pior, Melhor</td>\n",
       "      <td>1996</td>\n",
       "      <td>Falcão</td>\n",
       "    </tr>\n",
       "    <tr>\n",
       "      <th>5</th>\n",
       "      <td>500 Anos de Chifre</td>\n",
       "      <td>1997</td>\n",
       "      <td>Falcão</td>\n",
       "    </tr>\n",
       "    <tr>\n",
       "      <th>6</th>\n",
       "      <td>Do Penico à Bomba Atômica</td>\n",
       "      <td>1998</td>\n",
       "      <td>Falcão</td>\n",
       "    </tr>\n",
       "    <tr>\n",
       "      <th>7</th>\n",
       "      <td>Maxximum</td>\n",
       "      <td>1999</td>\n",
       "      <td>Falcão</td>\n",
       "    </tr>\n",
       "    <tr>\n",
       "      <th>8</th>\n",
       "      <td>What P***A iis This?</td>\n",
       "      <td>2000</td>\n",
       "      <td>Falcão</td>\n",
       "    </tr>\n",
       "    <tr>\n",
       "      <th>9</th>\n",
       "      <td>Sucessão de Sucessos Que Se Sucedem Sucessivam...</td>\n",
       "      <td>2001</td>\n",
       "      <td>Falcão</td>\n",
       "    </tr>\n",
       "    <tr>\n",
       "      <th>10</th>\n",
       "      <td>Under the Blade</td>\n",
       "      <td>2002</td>\n",
       "      <td>Twisted Sister</td>\n",
       "    </tr>\n",
       "    <tr>\n",
       "      <th>11</th>\n",
       "      <td>You Can't Stop Rock'n Roll</td>\n",
       "      <td>2003</td>\n",
       "      <td>Twisted Sister</td>\n",
       "    </tr>\n",
       "    <tr>\n",
       "      <th>12</th>\n",
       "      <td>Stay Hungry</td>\n",
       "      <td>2004</td>\n",
       "      <td>Twisted Sister</td>\n",
       "    </tr>\n",
       "    <tr>\n",
       "      <th>13</th>\n",
       "      <td>Come Out and Play</td>\n",
       "      <td>2005</td>\n",
       "      <td>Twisted Sister</td>\n",
       "    </tr>\n",
       "    <tr>\n",
       "      <th>14</th>\n",
       "      <td>Love is for Suckers</td>\n",
       "      <td>2006</td>\n",
       "      <td>Twisted Sister</td>\n",
       "    </tr>\n",
       "    <tr>\n",
       "      <th>15</th>\n",
       "      <td>Big Hits and Nasty Cuts</td>\n",
       "      <td>2007</td>\n",
       "      <td>Twisted Sister</td>\n",
       "    </tr>\n",
       "    <tr>\n",
       "      <th>16</th>\n",
       "      <td>Still Hungry</td>\n",
       "      <td>2008</td>\n",
       "      <td>Twisted Sister</td>\n",
       "    </tr>\n",
       "  </tbody>\n",
       "</table>\n",
       "</div>"
      ],
      "text/plain": [
       "                                                Album   Ano         Artista\n",
       "0                              Bonito, Lindo e Joiado  1992          Falcão\n",
       "1                   O Dinheiro Não é Tudo, Mas é 100%  1993          Falcão\n",
       "2                    A Besteira é a Base da Sabedoria  1994          Falcão\n",
       "3                                   A Um Passo da MPB  1995          Falcão\n",
       "4                                 Quanto Pior, Melhor  1996          Falcão\n",
       "5                                  500 Anos de Chifre  1997          Falcão\n",
       "6                           Do Penico à Bomba Atômica  1998          Falcão\n",
       "7                                            Maxximum  1999          Falcão\n",
       "8                                What P***A iis This?  2000          Falcão\n",
       "9   Sucessão de Sucessos Que Se Sucedem Sucessivam...  2001          Falcão\n",
       "10                                    Under the Blade  2002  Twisted Sister\n",
       "11                         You Can't Stop Rock'n Roll  2003  Twisted Sister\n",
       "12                                        Stay Hungry  2004  Twisted Sister\n",
       "13                                  Come Out and Play  2005  Twisted Sister\n",
       "14                                Love is for Suckers  2006  Twisted Sister\n",
       "15                            Big Hits and Nasty Cuts  2007  Twisted Sister\n",
       "16                                       Still Hungry  2008  Twisted Sister"
      ]
     },
     "execution_count": 23,
     "metadata": {},
     "output_type": "execute_result"
    }
   ],
   "source": [
    "discografia"
   ]
  },
  {
   "cell_type": "markdown",
   "metadata": {},
   "source": [
    "## Exportando df como csv"
   ]
  },
  {
   "cell_type": "code",
   "execution_count": 24,
   "metadata": {},
   "outputs": [],
   "source": [
    "discografia.to_csv(\"discografia.csv\")"
   ]
  },
  {
   "cell_type": "code",
   "execution_count": 30,
   "metadata": {},
   "outputs": [],
   "source": [
    "discografia.to_csv(\"semindice.csv\", index=False)"
   ]
  },
  {
   "cell_type": "markdown",
   "metadata": {},
   "source": [
    "## Exportando df como xlsx"
   ]
  },
  {
   "cell_type": "code",
   "execution_count": 33,
   "metadata": {},
   "outputs": [],
   "source": [
    "# discografia.to_excel(\"discografia.xlsx\") tá dando erro e nn sei pq ainda"
   ]
  }
 ],
 "metadata": {
  "interpreter": {
   "hash": "992045062d2ba229af4ec824f82107cca7e9d55201820b293f31bdaf1440c28b"
  },
  "kernelspec": {
   "display_name": "Python 3.8.12 64-bit ('machine': conda)",
   "language": "python",
   "name": "python3"
  },
  "language_info": {
   "codemirror_mode": {
    "name": "ipython",
    "version": 3
   },
   "file_extension": ".py",
   "mimetype": "text/x-python",
   "name": "python",
   "nbconvert_exporter": "python",
   "pygments_lexer": "ipython3",
   "version": "3.8.12"
  },
  "orig_nbformat": 4
 },
 "nbformat": 4,
 "nbformat_minor": 2
}
